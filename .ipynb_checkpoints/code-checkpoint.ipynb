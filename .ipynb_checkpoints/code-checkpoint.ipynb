{
 "cells": [
  {
   "cell_type": "code",
   "execution_count": 20,
   "id": "170afa35-30c6-49c7-97a8-e2894cb0c1eb",
   "metadata": {},
   "outputs": [],
   "source": [
    "import pandas as pd\n",
    "from pathlib import Path"
   ]
  },
  {
   "cell_type": "code",
   "execution_count": 21,
   "id": "b19ebbe5-f93f-4398-867e-5d1be8f77c17",
   "metadata": {},
   "outputs": [],
   "source": [
    "whale_returns_path = Path('whale_returns.csv')\n",
    "algo_returns_path = Path('algo_returns.csv')\n",
    "sp500_history_path = Path('sp500_history.csv')"
   ]
  },
  {
   "cell_type": "code",
   "execution_count": 22,
   "id": "b2d74a00-d5b4-44b6-b5e6-c8eb37c1200b",
   "metadata": {},
   "outputs": [],
   "source": [
    "whale_returns = pd.read_csv(whale_returns_path, index_col = 'Date', parse_dates = True)\n",
    "algo_returns = pd.read_csv(algo_returns_path, index_col = 'Date', parse_dates = True)\n",
    "sp500_history = pd.read_csv(sp500_history_path, index_col = 'Date', parse_dates = True)"
   ]
  },
  {
   "cell_type": "code",
   "execution_count": 23,
   "id": "664a2035-89b0-45f7-b1bb-d1704bcc73e9",
   "metadata": {},
   "outputs": [],
   "source": [
    "whale_returns.dropna(inplace=True)\n",
    "algo_returns.dropna(inplace=True)\n",
    "sp500_history.dropna(inplace=True)"
   ]
  },
  {
   "cell_type": "code",
   "execution_count": 24,
   "id": "0c9857e7-f812-4d8e-a080-a3dbfd3364fe",
   "metadata": {},
   "outputs": [],
   "source": [
    "whale_returns = whale_returns.apply(pd.to_numeric, errors='coerce')\n",
    "algo_returns = algo_returns.apply(pd.to_numeric, errors='coerce')\n",
    "sp500_history = sp500_history.apply(pd.to_numeric, errors='coerce')"
   ]
  },
  {
   "cell_type": "code",
   "execution_count": 25,
   "id": "3c6cadad-6358-4755-b78b-d5763f275379",
   "metadata": {},
   "outputs": [],
   "source": [
    "whale_returns.index = pd.to_datetime(whale_returns.index)\n",
    "algo_returns.index = pd.to_datetime(algo_returns.index)\n",
    "sp500_history.index = pd.to_datetime(sp500_history.index)"
   ]
  },
  {
   "cell_type": "code",
   "execution_count": 27,
   "id": "36b542c9-5b6b-457e-b9df-7ddf5e2bb2fe",
   "metadata": {},
   "outputs": [],
   "source": [
    "sp500_returns = sp500_history['Close'].pct_change().dropna()"
   ]
  },
  {
   "cell_type": "code",
   "execution_count": null,
   "id": "59fb6142-e185-477d-af9a-6443c332bfef",
   "metadata": {},
   "outputs": [],
   "source": []
  }
 ],
 "metadata": {
  "kernelspec": {
   "display_name": "Python 3 (ipykernel)",
   "language": "python",
   "name": "python3"
  },
  "language_info": {
   "codemirror_mode": {
    "name": "ipython",
    "version": 3
   },
   "file_extension": ".py",
   "mimetype": "text/x-python",
   "name": "python",
   "nbconvert_exporter": "python",
   "pygments_lexer": "ipython3",
   "version": "3.9.13"
  }
 },
 "nbformat": 4,
 "nbformat_minor": 5
}
