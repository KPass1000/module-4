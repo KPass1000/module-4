{
 "cells": [
  {
   "cell_type": "code",
   "execution_count": 1,
   "id": "170afa35-30c6-49c7-97a8-e2894cb0c1eb",
   "metadata": {},
   "outputs": [],
   "source": [
    "import pandas as pd\n",
    "from pathlib import Path"
   ]
  },
  {
   "cell_type": "code",
   "execution_count": 2,
   "id": "b19ebbe5-f93f-4398-867e-5d1be8f77c17",
   "metadata": {},
   "outputs": [],
   "source": [
    "whale_returns_path = Path('whale_returns.csv')\n",
    "algo_returns_path = Path('algo_returns.csv')\n",
    "sp500_history_path = Path('sp500_history.csv')"
   ]
  },
  {
   "cell_type": "code",
   "execution_count": 4,
   "id": "b2d74a00-d5b4-44b6-b5e6-c8eb37c1200b",
   "metadata": {},
   "outputs": [],
   "source": [
    "whale_returns = pd.read_csv(whale_returns_path, index_col = 'Date', parse_dates = True)\n",
    "algo_returns = pd.read_csv(algo_returns_path, index_col = 'Date', parse_dates = True)\n",
    "sp500_history = pd.read_csv(sp500_history_path, index_col = 'Date', parse_dates = True)"
   ]
  },
  {
   "cell_type": "code",
   "execution_count": null,
   "id": "664a2035-89b0-45f7-b1bb-d1704bcc73e9",
   "metadata": {},
   "outputs": [],
   "source": []
  }
 ],
 "metadata": {
  "kernelspec": {
   "display_name": "Python 3 (ipykernel)",
   "language": "python",
   "name": "python3"
  },
  "language_info": {
   "codemirror_mode": {
    "name": "ipython",
    "version": 3
   },
   "file_extension": ".py",
   "mimetype": "text/x-python",
   "name": "python",
   "nbconvert_exporter": "python",
   "pygments_lexer": "ipython3",
   "version": "3.9.13"
  }
 },
 "nbformat": 4,
 "nbformat_minor": 5
}
